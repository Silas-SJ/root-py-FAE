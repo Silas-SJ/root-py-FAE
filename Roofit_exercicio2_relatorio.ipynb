{
 "cells": [
  {
   "cell_type": "markdown",
   "metadata": {},
   "source": [
    "# Atenção\n",
    "\n",
    "Este é o exercício 2 de Roofit, o exercício 1 se encontra neste repositório com o nome: Roofit_exercicio1_relatorio"
   ]
  },
  {
   "cell_type": "code",
   "execution_count": 1,
   "metadata": {},
   "outputs": [
    {
     "name": "stdout",
     "output_type": "stream",
     "text": [
      "Welcome to JupyROOT 6.22/02\n"
     ]
    }
   ],
   "source": [
    "import ROOT"
   ]
  },
  {
   "cell_type": "code",
   "execution_count": null,
   "metadata": {},
   "outputs": [],
   "source": [
    "# Exercício 2"
   ]
  },
  {
   "cell_type": "code",
   "execution_count": null,
   "metadata": {},
   "outputs": [],
   "source": [
    "#Esse exercício é baseado no arquivo chamado: DataSet_lowstat.root\n",
    "#Que se encontra neste repositório"
   ]
  },
  {
   "cell_type": "code",
   "execution_count": null,
   "metadata": {},
   "outputs": [],
   "source": [
    "#Esse exercício consiste basicamente em \"construir\" uma distribuição \n",
    "# Crystal ball para o J/{\\psi}"
   ]
  },
  {
   "cell_type": "code",
   "execution_count": null,
   "metadata": {},
   "outputs": [],
   "source": [
    "#Esse exercício consiste basicamente em \"construir\" uma distribuição \n",
    "# Crystal ball para o J/psi e uma similiar para o psi2S, essa função \n",
    "#similar seria uma gaussiana"
   ]
  },
  {
   "cell_type": "code",
   "execution_count": null,
   "metadata": {},
   "outputs": [],
   "source": [
    "# Para saber mais sobre a função Crystal Ball: \n",
    "#  https://people.cs.uchicago.edu/~yongshan/papers/j-psi-analysis.pdf"
   ]
  },
  {
   "cell_type": "code",
   "execution_count": null,
   "metadata": {},
   "outputs": [],
   "source": [
    "#Vamos começar importando o \"data\" do arquivo.root mensionado \n",
    "#anteriormente"
   ]
  },
  {
   "cell_type": "code",
   "execution_count": 2,
   "metadata": {},
   "outputs": [
    {
     "name": "stdout",
     "output_type": "stream",
     "text": [
      "\n",
      "\u001b[1mRooFit v3.60 -- Developed by Wouter Verkerke and David Kirkby\u001b[0m \n",
      "                Copyright (C) 2000-2013 NIKHEF, University of California & Stanford University\n",
      "                All rights reserved, please read http://roofit.sourceforge.net/license.txt\n",
      "\n"
     ]
    }
   ],
   "source": [
    "file = ROOT.TFile('DataSet_lowstat.root')\n",
    "dataset = file.Get(\"data\")"
   ]
  },
  {
   "cell_type": "code",
   "execution_count": null,
   "metadata": {},
   "outputs": [],
   "source": [
    "#Vamos começar declarando a variável massa, que seria a massa dos muons"
   ]
  },
  {
   "cell_type": "code",
   "execution_count": 3,
   "metadata": {},
   "outputs": [],
   "source": [
    "mass = ROOT.RooRealVar(\"mass\", \"Massa invariante dos Muons\",2.,6.,\"GeV\")"
   ]
  },
  {
   "cell_type": "code",
   "execution_count": null,
   "metadata": {},
   "outputs": [],
   "source": [
    "#Agora vamos declarar as variáveis para o J/psi\n",
    "#Ao invés de usa alfa, como na equação link de referência, vou usar\n",
    "#k para facilitar um pouco mais a escrita."
   ]
  },
  {
   "cell_type": "code",
   "execution_count": 4,
   "metadata": {},
   "outputs": [],
   "source": [
    "media = ROOT.RooRealVar(\"media\",\"media do J/psi\",3.1,2.8,3.2)\n",
    "sigma1 = ROOT.RooRealVar(\"sigma1\",\"sigma do J/psi\",0.3,0.0001,1.)\n",
    "k = ROOT.RooRealVar(\"sigma\",\"K do J/psi\",1.5,-5.,5.)\n",
    "n = ROOT.RooRealVar(\"n\",\"n do J/psi\",1.5,0.5,5.)"
   ]
  },
  {
   "cell_type": "code",
   "execution_count": null,
   "metadata": {},
   "outputs": [],
   "source": [
    "#Vamos declarar um PDF para o J/psi"
   ]
  },
  {
   "cell_type": "code",
   "execution_count": 5,
   "metadata": {},
   "outputs": [],
   "source": [
    "CBShapepsi = ROOT.RooCBShape( \"CBshapeJpsi\",\"PDF do J/psi\", mass, media, sigma1, k, n)"
   ]
  },
  {
   "cell_type": "code",
   "execution_count": 6,
   "metadata": {},
   "outputs": [],
   "source": [
    "#Agora vamos declarar as variáveis para o psiS2"
   ]
  },
  {
   "cell_type": "code",
   "execution_count": 6,
   "metadata": {},
   "outputs": [],
   "source": [
    "media2 = ROOT.RooRealVar(\"media2\",\"media2\",3.7,3.6,3.8)\n",
    "sigma2 = ROOT.RooRealVar(\"sigma2\",\"sigma2\",0.3,0.0001,1.)"
   ]
  },
  {
   "cell_type": "code",
   "execution_count": null,
   "metadata": {},
   "outputs": [],
   "source": [
    "#Vamos declarar a gaussiana para o Psi2S"
   ]
  },
  {
   "cell_type": "code",
   "execution_count": 7,
   "metadata": {},
   "outputs": [],
   "source": [
    "gauss= ROOT.RooGaussian(\"gauss\",\"Gaussiana do Psi2S\", mass, media2, sigma2)"
   ]
  },
  {
   "cell_type": "code",
   "execution_count": null,
   "metadata": {},
   "outputs": [],
   "source": [
    "#Para declarar o background com polinômio vamos começar com as \n",
    "# variáveis "
   ]
  },
  {
   "cell_type": "code",
   "execution_count": 8,
   "metadata": {},
   "outputs": [],
   "source": [
    "a = ROOT.RooRealVar(\"a\",\"a\",-0.7,-2.,2.)\n",
    "b = ROOT.RooRealVar(\"b\",\"b\",0.3,-2.,2.)\n",
    "c = ROOT.RooRealVar(\"c\",\"c\",-0.03,-2.,2.)\n"
   ]
  },
  {
   "cell_type": "code",
   "execution_count": null,
   "metadata": {},
   "outputs": [],
   "source": [
    "#Agora vamos fazer o polinomio do background"
   ]
  },
  {
   "cell_type": "code",
   "execution_count": 9,
   "metadata": {},
   "outputs": [],
   "source": [
    "polibk = ROOT.RooPolynomial(\"polibk\",\"Polinomio do Backgroun\", mass, ROOT.RooArgList(a,b,c))"
   ]
  },
  {
   "cell_type": "code",
   "execution_count": null,
   "metadata": {},
   "outputs": [],
   "source": [
    "#Vamos fazer a declaração para os pequenos sinais de eventos"
   ]
  },
  {
   "cell_type": "code",
   "execution_count": 10,
   "metadata": {},
   "outputs": [],
   "source": [
    "ev1 = ROOT.RooRealVar(\"ev1\",\"signais de eventos do Jpsi\",1500.,0.1,10000.)\n",
    "ev2 = ROOT.RooRealVar(\"ev2\",\"Sinais de eventos do psi2S\",100.,0.1,5000.)\n",
    "ev3 = ROOT.RooRealVar(\"ev3\",\"Sinais de eventos do backgruund\",5000.,0.1,50000.)"
   ]
  },
  {
   "cell_type": "code",
   "execution_count": null,
   "metadata": {},
   "outputs": [],
   "source": [
    "#Para fazer a combinação dos PDF considerando o numero de eventos\n",
    "#para o Jpsi, psi2S e o Background podemos fazer a soma deles:"
   ]
  },
  {
   "cell_type": "code",
   "execution_count": 11,
   "metadata": {},
   "outputs": [],
   "source": [
    "somaPDF = ROOT.RooAddPdf(\"somaPDF\",\"Soma dos PDFs\",ROOT.RooArgList(CBShapepsi,gauss,polibk),ROOT.RooArgList(ev1,ev2,ev3))"
   ]
  },
  {
   "cell_type": "code",
   "execution_count": null,
   "metadata": {},
   "outputs": [],
   "source": [
    "#Vamos fazer o fit da soma dos PDFs para o dataset"
   ]
  },
  {
   "cell_type": "code",
   "execution_count": 12,
   "metadata": {},
   "outputs": [
    {
     "data": {
      "text/plain": [
       "<cppyy.gbl.RooFitResult object at 0x(nil)>"
      ]
     },
     "execution_count": 12,
     "metadata": {},
     "output_type": "execute_result"
    },
    {
     "name": "stdout",
     "output_type": "stream",
     "text": [
      "[#1] INFO:Minization -- p.d.f. provides expected number of events, including extended term in likelihood.\n",
      "[#1] INFO:Minization -- RooMinimizer::optimizeConst: activating const optimization\n",
      "[#1] INFO:Minization --  The following expressions will be evaluated in cache-and-track mode: (CBshapeJpsi,gauss,polibk)\n",
      " **********\n",
      " **    1 **SET PRINT           1\n",
      " **********\n",
      " **********\n",
      " **    2 **SET NOGRAD\n",
      " **********\n",
      " PARAMETER DEFINITIONS:\n",
      "    NO.   NAME         VALUE      STEP SIZE      LIMITS\n",
      "     1 a           -7.00000e-01  4.00000e-01   -2.00000e+00  2.00000e+00\n",
      "     2 b            3.00000e-01  4.00000e-01   -2.00000e+00  2.00000e+00\n",
      "     3 c           -3.00000e-02  4.00000e-01   -2.00000e+00  2.00000e+00\n",
      "     4 ev1          1.50000e+03  7.49950e+02    1.00000e-01  1.00000e+04\n",
      "     5 ev2          1.00000e+02  4.99500e+01    1.00000e-01  5.00000e+03\n",
      "     6 ev3          5.00000e+03  2.49995e+03    1.00000e-01  5.00000e+04\n",
      "     7 media        3.10000e+00  4.00000e-02    2.80000e+00  3.20000e+00\n",
      "     8 media2       3.70000e+00  2.00000e-02    3.60000e+00  3.80000e+00\n",
      "     9 n            1.50000e+00  4.50000e-01    5.00000e-01  5.00000e+00\n",
      "    10 sigma        1.50000e+00  1.00000e+00   -5.00000e+00  5.00000e+00\n",
      "    11 sigma1       3.00000e-01  9.99900e-02    1.00000e-04  1.00000e+00\n",
      "    12 sigma2       3.00000e-01  9.99900e-02    1.00000e-04  1.00000e+00\n",
      " **********\n",
      " **    3 **SET ERR         0.5\n",
      " **********\n",
      " **********\n",
      " **    4 **SET PRINT           1\n",
      " **********\n",
      " **********\n",
      " **    5 **SET STR           1\n",
      " **********\n",
      " NOW USING STRATEGY  1: TRY TO BALANCE SPEED AGAINST RELIABILITY\n",
      " **********\n",
      " **    6 **MIGRAD        6000           1\n",
      " **********\n",
      " FIRST CALL TO USER FUNCTION AT NEW START POINT, WITH IFLAG=4.\n",
      " START MIGRAD MINIMIZATION.  STRATEGY  1.  CONVERGENCE WHEN EDM .LT. 1.00e-03\n",
      "[#0] WARNING:Minization -- RooMinimizerFcn: Minimized function has error status.\n",
      "Returning maximum FCN so far (2880.61) to force MIGRAD to back out of this region. Error log follows\n",
      "Parameter values: a=-0.7, b=0.3, c=-0.0404627, ev1=1500, ev2=100, ev3=5000, media=3.1, media2=3.7, n=1.5, sigma=1.5, sigma1=0.3, sigma2=0.3\n",
      "RooPolynomial::polibk[ x=mass coefList=(a,b,c) ]\n",
      "     p.d.f value is less than zero (-0.893167), forcing value to zero @ x=mass=5.82316, coefList=(a = -0.7,b = 0.3,c = -0.0404627)\n",
      "     p.d.f value is less than zero (-0.555468), forcing value to zero @ x=mass=5.54455, coefList=(a = -0.7,b = 0.3,c = -0.0404627)\n",
      "     p.d.f value is less than zero (-0.517519), forcing value to zero @ x=mass=5.5098, coefList=(a = -0.7,b = 0.3,c = -0.0404627)\n",
      "     p.d.f value is less than zero (-0.329705), forcing value to zero @ x=mass=5.32424, coefList=(a = -0.7,b = 0.3,c = -0.0404627)\n",
      "     p.d.f value is less than zero (-0.681125), forcing value to zero @ x=mass=5.65416, coefList=(a = -0.7,b = 0.3,c = -0.0404627)\n",
      "     p.d.f value is less than zero (-0.475788), forcing value to zero @ x=mass=5.47061, coefList=(a = -0.7,b = 0.3,c = -0.0404627)\n",
      "     p.d.f value is less than zero (-0.617330), forcing value to zero @ x=mass=5.59951, coefList=(a = -0.7,b = 0.3,c = -0.0404627)\n",
      "     p.d.f value is less than zero (-0.024875), forcing value to zero @ x=mass=4.95427, coefList=(a = -0.7,b = 0.3,c = -0.0404627)\n",
      "     p.d.f value is less than zero (-0.536070), forcing value to zero @ x=mass=5.52689, coefList=(a = -0.7,b = 0.3,c = -0.0404627)\n",
      "     p.d.f value is less than zero (-0.288597), forcing value to zero @ x=mass=5.2801, coefList=(a = -0.7,b = 0.3,c = -0.0404627)\n",
      "     p.d.f value is less than zero (-0.053569), forcing value to zero @ x=mass=4.99418, coefList=(a = -0.7,b = 0.3,c = -0.0404627)\n",
      "     p.d.f value is less than zero (-0.646315), forcing value to zero @ x=mass=5.62458, coefList=(a = -0.7,b = 0.3,c = -0.0404627)\n",
      "    ... (remaining 44 messages suppressed)\n",
      "\n",
      "[#0] WARNING:Minization -- RooMinimizerFcn: Minimized function has error status.\n",
      "Returning maximum FCN so far (2893.96) to force MIGRAD to back out of this region. Error log follows\n",
      "Parameter values: a=-1.01173, b=0.3, c=-0.03, ev1=1500, ev2=100, ev3=5000, media=3.1, media2=3.7, n=1.5, sigma=1.5, sigma1=0.3, sigma2=0.3\n",
      "RooPolynomial::polibk[ x=mass coefList=(a,b,c) ]\n",
      "     p.d.f value is less than zero (-0.147118), forcing value to zero @ x=mass=3.10232, coefList=(a = -1.01173,b = 0.3,c = -0.03)\n",
      "     p.d.f normalization integral is zero or negative: -0.987609 @ x=mass=3.10232, coefList=(a = -1.01173,b = 0.3,c = -0.03)\n",
      "     p.d.f value is less than zero (-0.105108), forcing value to zero @ x=mass=2.3012, coefList=(a = -1.01173,b = 0.3,c = -0.03)\n",
      "     p.d.f normalization integral is zero or negative: -0.987609 @ x=mass=2.3012, coefList=(a = -1.01173,b = 0.3,c = -0.03)\n",
      "     p.d.f value is less than zero (-0.175969), forcing value to zero @ x=mass=4.14801, coefList=(a = -1.01173,b = 0.3,c = -0.03)\n",
      "     p.d.f normalization integral is zero or negative: -0.987609 @ x=mass=4.14801, coefList=(a = -1.01173,b = 0.3,c = -0.03)\n",
      "     p.d.f value is less than zero (-0.147588), forcing value to zero @ x=mass=3.13183, coefList=(a = -1.01173,b = 0.3,c = -0.03)\n",
      "     p.d.f normalization integral is zero or negative: -0.987609 @ x=mass=3.13183, coefList=(a = -1.01173,b = 0.3,c = -0.03)\n",
      "     p.d.f value is less than zero (-0.268007), forcing value to zero @ x=mass=4.82852, coefList=(a = -1.01173,b = 0.3,c = -0.03)\n",
      "     p.d.f normalization integral is zero or negative: -0.987609 @ x=mass=4.82852, coefList=(a = -1.01173,b = 0.3,c = -0.03)\n",
      "     p.d.f value is less than zero (-0.148865), forcing value to zero @ x=mass=3.22318, coefList=(a = -1.01173,b = 0.3,c = -0.03)\n",
      "     p.d.f normalization integral is zero or negative: -0.987609 @ x=mass=3.22318, coefList=(a = -1.01173,b = 0.3,c = -0.03)\n",
      "    ... (remaining 990 messages suppressed)\n",
      "\n",
      "[#0] WARNING:Minization -- RooMinimizerFcn: Minimized function has error status.\n",
      "Returning maximum FCN so far (2893.96) to force MIGRAD to back out of this region. Error log follows\n",
      "Parameter values: a=-0.910723, b=0.3, c=-0.03, ev1=1500, ev2=100, ev3=5000, media=3.1, media2=3.7, n=1.5, sigma=1.5, sigma1=0.3, sigma2=0.3\n",
      "RooPolynomial::polibk[ x=mass coefList=(a,b,c) ]\n",
      "     p.d.f value is less than zero (-0.054289), forcing value to zero @ x=mass=5.82316, coefList=(a = -0.910723,b = 0.3,c = -0.03)\n",
      "     p.d.f value is less than zero (-0.065456), forcing value to zero @ x=mass=5.84672, coefList=(a = -0.910723,b = 0.3,c = -0.03)\n",
      "     p.d.f value is less than zero (-0.121475), forcing value to zero @ x=mass=5.95771, coefList=(a = -0.910723,b = 0.3,c = -0.03)\n",
      "     p.d.f value is less than zero (-0.131159), forcing value to zero @ x=mass=5.97581, coefList=(a = -0.910723,b = 0.3,c = -0.03)\n",
      "     p.d.f value is less than zero (-0.118278), forcing value to zero @ x=mass=5.95167, coefList=(a = -0.910723,b = 0.3,c = -0.03)\n",
      "     p.d.f value is less than zero (-0.104297), forcing value to zero @ x=mass=5.92486, coefList=(a = -0.910723,b = 0.3,c = -0.03)\n",
      "     p.d.f value is less than zero (-0.075969), forcing value to zero @ x=mass=5.86844, coefList=(a = -0.910723,b = 0.3,c = -0.03)\n",
      "     p.d.f value is less than zero (-0.112992), forcing value to zero @ x=mass=5.94161, coefList=(a = -0.910723,b = 0.3,c = -0.03)\n",
      "     p.d.f value is less than zero (-0.033497), forcing value to zero @ x=mass=5.77782, coefList=(a = -0.910723,b = 0.3,c = -0.03)\n",
      "     p.d.f value is less than zero (-0.136575), forcing value to zero @ x=mass=5.98582, coefList=(a = -0.910723,b = 0.3,c = -0.03)\n",
      "     p.d.f value is less than zero (-0.011434), forcing value to zero @ x=mass=5.72739, coefList=(a = -0.910723,b = 0.3,c = -0.03)\n",
      "     p.d.f value is less than zero (-0.002207), forcing value to zero @ x=mass=5.70552, coefList=(a = -0.910723,b = 0.3,c = -0.03)\n",
      "    ... (remaining 3 messages suppressed)\n",
      "\n",
      "[#0] WARNING:Minization -- RooMinimizerFcn: Minimized function has error status.\n",
      "Returning maximum FCN so far (2893.96) to force MIGRAD to back out of this region. Error log follows\n",
      "Parameter values: a=-0.910609, b=0.3, c=-0.03, ev1=1500, ev2=100, ev3=5000, media=3.1, media2=3.7, n=1.5, sigma=1.5, sigma1=0.3, sigma2=0.3\n",
      "RooPolynomial::polibk[ x=mass coefList=(a,b,c) ]\n",
      "     p.d.f value is less than zero (-0.053626), forcing value to zero @ x=mass=5.82316, coefList=(a = -0.910609,b = 0.3,c = -0.03)\n",
      "     p.d.f value is less than zero (-0.064790), forcing value to zero @ x=mass=5.84672, coefList=(a = -0.910609,b = 0.3,c = -0.03)\n",
      "     p.d.f value is less than zero (-0.120796), forcing value to zero @ x=mass=5.95771, coefList=(a = -0.910609,b = 0.3,c = -0.03)\n",
      "     p.d.f value is less than zero (-0.130477), forcing value to zero @ x=mass=5.97581, coefList=(a = -0.910609,b = 0.3,c = -0.03)\n",
      "     p.d.f value is less than zero (-0.117599), forcing value to zero @ x=mass=5.95167, coefList=(a = -0.910609,b = 0.3,c = -0.03)\n",
      "     p.d.f value is less than zero (-0.103622), forcing value to zero @ x=mass=5.92486, coefList=(a = -0.910609,b = 0.3,c = -0.03)\n",
      "     p.d.f value is less than zero (-0.075300), forcing value to zero @ x=mass=5.86844, coefList=(a = -0.910609,b = 0.3,c = -0.03)\n",
      "     p.d.f value is less than zero (-0.112315), forcing value to zero @ x=mass=5.94161, coefList=(a = -0.910609,b = 0.3,c = -0.03)\n",
      "     p.d.f value is less than zero (-0.032839), forcing value to zero @ x=mass=5.77782, coefList=(a = -0.910609,b = 0.3,c = -0.03)\n",
      "     p.d.f value is less than zero (-0.135893), forcing value to zero @ x=mass=5.98582, coefList=(a = -0.910609,b = 0.3,c = -0.03)\n",
      "     p.d.f value is less than zero (-0.010782), forcing value to zero @ x=mass=5.72739, coefList=(a = -0.910609,b = 0.3,c = -0.03)\n",
      "     p.d.f value is less than zero (-0.001557), forcing value to zero @ x=mass=5.70552, coefList=(a = -0.910609,b = 0.3,c = -0.03)\n",
      "    ... (remaining 3 messages suppressed)\n",
      "\n",
      " FCN=2707.6 FROM MIGRAD    STATUS=INITIATE      229 CALLS         230 TOTAL\n",
      "                     EDM= unknown      STRATEGY= 1      NO ERROR MATRIX       \n",
      "  EXT PARAMETER               CURRENT GUESS       STEP         FIRST   \n",
      "  NO.   NAME      VALUE            ERROR          SIZE      DERIVATIVE \n",
      "   1  a           -8.59068e-01   4.00000e-01   0.00000e+00   1.69330e+02\n",
      "   2  b            3.00000e-01   4.00000e-01   0.00000e+00   3.99546e+03\n",
      "   3  c           -3.00000e-02   4.00000e-01   0.00000e+00   2.77335e+04\n",
      "   4  ev1          1.50000e+03   7.49950e+02   0.00000e+00   3.14764e+03\n",
      "   5  ev2          1.00000e+02   4.99500e+01   0.00000e+00   6.48669e+02\n",
      "   6  ev3          5.00000e+03   2.49995e+03   0.00000e+00   1.40548e+04\n",
      "   7  media        3.10000e+00   4.00000e-02   0.00000e+00   5.39655e+01\n",
      "   8  media2       3.60000e+00   2.00000e-02   0.00000e+00** at limit **\n",
      "   9  n            6.68674e-01   4.50000e-01  -1.98505e-01   3.35483e-01\n",
      "  10  sigma        1.50000e+00   1.00000e+00   0.00000e+00   1.66018e+01\n",
      "  11  sigma1       1.92528e-02   9.99900e-02   0.00000e+00   2.48005e+02\n",
      "  12  sigma2       3.00000e-01   9.99900e-02   0.00000e+00  -2.18817e-01\n",
      "                               ERR DEF= 0.5\n",
      "[#0] WARNING:Minization -- RooMinimizerFcn: Minimized function has error status.\n",
      "Returning maximum FCN so far (2893.96) to force MIGRAD to back out of this region. Error log follows\n",
      "Parameter values: a=-0.88922, b=0.280707, c=-0.0321371, ev1=3.17533, ev2=0.130431, ev3=7.50304, media=3.09772, media2=3.6, n=0.67168, sigma=1.4575, sigma1=0.0269891, sigma2=0.326846\n",
      "RooPolynomial::polibk[ x=mass coefList=(a,b,c) ]\n",
      "     p.d.f value is less than zero (-0.016563), forcing value to zero @ x=mass=3.10232, coefList=(a = -0.88922,b = 0.280707,c = -0.0321371)\n",
      "     p.d.f normalization integral is zero or negative: -1.04908 @ x=mass=3.10232, coefList=(a = -0.88922,b = 0.280707,c = -0.0321371)\n",
      "     p.d.f normalization integral is zero or negative: -1.04908 @ x=mass=2.3012, coefList=(a = -0.88922,b = 0.280707,c = -0.0321371)\n",
      "     p.d.f value is less than zero (-0.152304), forcing value to zero @ x=mass=4.14801, coefList=(a = -0.88922,b = 0.280707,c = -0.0321371)\n",
      "     p.d.f normalization integral is zero or negative: -1.04908 @ x=mass=4.14801, coefList=(a = -0.88922,b = 0.280707,c = -0.0321371)\n",
      "     p.d.f value is less than zero (-0.018806), forcing value to zero @ x=mass=3.13183, coefList=(a = -0.88922,b = 0.280707,c = -0.0321371)\n",
      "     p.d.f normalization integral is zero or negative: -1.04908 @ x=mass=3.13183, coefList=(a = -0.88922,b = 0.280707,c = -0.0321371)\n",
      "     p.d.f value is less than zero (-0.366892), forcing value to zero @ x=mass=4.82852, coefList=(a = -0.88922,b = 0.280707,c = -0.0321371)\n",
      "     p.d.f normalization integral is zero or negative: -1.04908 @ x=mass=4.82852, coefList=(a = -0.88922,b = 0.280707,c = -0.0321371)\n",
      "     p.d.f value is less than zero (-0.026005), forcing value to zero @ x=mass=3.22318, coefList=(a = -0.88922,b = 0.280707,c = -0.0321371)\n",
      "     p.d.f normalization integral is zero or negative: -1.04908 @ x=mass=3.22318, coefList=(a = -0.88922,b = 0.280707,c = -0.0321371)\n",
      "     p.d.f normalization integral is zero or negative: -1.04908 @ x=mass=2.53242, coefList=(a = -0.88922,b = 0.280707,c = -0.0321371)\n",
      "    ... (remaining 859 messages suppressed)\n",
      "\n",
      "[#0] WARNING:Minization -- RooMinimizerFcn: Minimized function has error status.\n",
      "Returning maximum FCN so far (2893.96) to force MIGRAD to back out of this region. Error log follows\n",
      "Parameter values: a=-0.873948, b=0.290502, c=-0.0310525, ev1=368.726, ev2=25.0961, ev3=1227.1, media=3.09888, media2=3.6, n=0.670151, sigma=1.47908, sigma1=0.022903, sigma2=0.313143\n",
      "RooPolynomial::polibk[ x=mass coefList=(a,b,c) ]\n",
      "     p.d.f value is less than zero (-0.370043), forcing value to zero @ x=mass=5.82316, coefList=(a = -0.873948,b = 0.290502,c = -0.0310525)\n",
      "     p.d.f value is less than zero (-0.207951), forcing value to zero @ x=mass=5.54455, coefList=(a = -0.873948,b = 0.290502,c = -0.0310525)\n",
      "     p.d.f value is less than zero (-0.190278), forcing value to zero @ x=mass=5.5098, coefList=(a = -0.873948,b = 0.290502,c = -0.0310525)\n",
      "     p.d.f value is less than zero (-0.104823), forcing value to zero @ x=mass=5.32424, coefList=(a = -0.873948,b = 0.290502,c = -0.0310525)\n",
      "     p.d.f value is less than zero (-0.267312), forcing value to zero @ x=mass=5.65416, coefList=(a = -0.873948,b = 0.290502,c = -0.0310525)\n",
      "     p.d.f value is less than zero (-0.170992), forcing value to zero @ x=mass=5.47061, coefList=(a = -0.873948,b = 0.290502,c = -0.0310525)\n",
      "     p.d.f value is less than zero (-0.237019), forcing value to zero @ x=mass=5.59951, coefList=(a = -0.873948,b = 0.290502,c = -0.0310525)\n",
      "     p.d.f value is less than zero (-0.198902), forcing value to zero @ x=mass=5.52689, coefList=(a = -0.873948,b = 0.290502,c = -0.0310525)\n",
      "     p.d.f value is less than zero (-0.086624), forcing value to zero @ x=mass=5.2801, coefList=(a = -0.873948,b = 0.290502,c = -0.0310525)\n",
      "     p.d.f value is less than zero (-0.250744), forcing value to zero @ x=mass=5.62458, coefList=(a = -0.873948,b = 0.290502,c = -0.0310525)\n",
      "     p.d.f value is less than zero (-0.034144), forcing value to zero @ x=mass=5.14047, coefList=(a = -0.873948,b = 0.290502,c = -0.0310525)\n",
      "     p.d.f value is less than zero (-0.039697), forcing value to zero @ x=mass=5.15625, coefList=(a = -0.873948,b = 0.290502,c = -0.0310525)\n",
      "    ... (remaining 36 messages suppressed)\n",
      "\n",
      "[#0] WARNING:Minization -- RooMinimizerFcn: Minimized function has error status.\n",
      "Returning maximum FCN so far (2893.96) to force MIGRAD to back out of this region. Error log follows\n",
      "Parameter values: a=-0.866291, b=0.295395, c=-0.0305104, ev1=865.055, ev2=57.5132, ev3=2871.49, media=3.09946, media2=3.6, n=0.66939, sigma=1.48986, sigma1=0.0209841, sigma2=0.306354\n",
      "RooPolynomial::polibk[ x=mass coefList=(a,b,c) ]\n",
      "     p.d.f value is less than zero (-0.052512), forcing value to zero @ x=mass=5.82316, coefList=(a = -0.866291,b = 0.295395,c = -0.0305104)\n",
      "     p.d.f value is less than zero (-0.065127), forcing value to zero @ x=mass=5.84672, coefList=(a = -0.866291,b = 0.295395,c = -0.0305104)\n",
      "     p.d.f value is less than zero (-0.128169), forcing value to zero @ x=mass=5.95771, coefList=(a = -0.866291,b = 0.295395,c = -0.0305104)\n",
      "     p.d.f value is less than zero (-0.139030), forcing value to zero @ x=mass=5.97581, coefList=(a = -0.866291,b = 0.295395,c = -0.0305104)\n",
      "     p.d.f value is less than zero (-0.124580), forcing value to zero @ x=mass=5.95167, coefList=(a = -0.866291,b = 0.295395,c = -0.0305104)\n",
      "     p.d.f value is less than zero (-0.108877), forcing value to zero @ x=mass=5.92486, coefList=(a = -0.866291,b = 0.295395,c = -0.0305104)\n",
      "     p.d.f value is less than zero (-0.076987), forcing value to zero @ x=mass=5.86844, coefList=(a = -0.866291,b = 0.295395,c = -0.0305104)\n",
      "     p.d.f value is less than zero (-0.118645), forcing value to zero @ x=mass=5.94161, coefList=(a = -0.866291,b = 0.295395,c = -0.0305104)\n",
      "     p.d.f value is less than zero (-0.028976), forcing value to zero @ x=mass=5.77782, coefList=(a = -0.866291,b = 0.295395,c = -0.0305104)\n",
      "     p.d.f value is less than zero (-0.145101), forcing value to zero @ x=mass=5.98582, coefList=(a = -0.866291,b = 0.295395,c = -0.0305104)\n",
      "     p.d.f value is less than zero (-0.003926), forcing value to zero @ x=mass=5.72739, coefList=(a = -0.866291,b = 0.295395,c = -0.0305104)\n",
      "     p.d.f value is less than zero (-0.139662), forcing value to zero @ x=mass=5.97686, coefList=(a = -0.866291,b = 0.295395,c = -0.0305104)\n",
      "    ... (remaining 2 messages suppressed)\n",
      "\n",
      " MIGRAD MINIMIZATION HAS CONVERGED.\n",
      " MIGRAD WILL VERIFY CONVERGENCE AND ERROR MATRIX.\n",
      " COVARIANCE MATRIX CALCULATED SUCCESSFULLY\n",
      " FCN=-2181.69 FROM HESSE     STATUS=OK            119 CALLS         990 TOTAL\n",
      "                     EDM=0.151341    STRATEGY= 1      ERROR MATRIX ACCURATE \n",
      "  EXT PARAMETER                                   STEP         FIRST   \n",
      "  NO.   NAME      VALUE            ERROR          SIZE      DERIVATIVE \n",
      "   1  a            1.36822e+00   9.08735e-01   6.36283e-03  -3.87043e-01\n",
      "   2  b            1.88825e-01   1.82470e-01   6.09534e-04   1.43958e+00\n",
      "   3  c           -5.62791e-02   3.03756e-02   9.17098e-05  -3.27003e+01\n",
      "   4  ev1          2.59964e+02   2.24594e+01   3.58730e-04   1.75867e-01\n",
      "   5  ev2          3.38334e+01   1.40981e+01   7.20743e-04   8.39173e-03\n",
      "   6  ev3          2.06157e+02   2.93121e+01   1.72925e-04   2.49007e-01\n",
      "   7  media        3.09436e+00   3.37358e-03   6.14360e-04  -1.63427e-01\n",
      "   8  media2       3.60000e+00   1.23783e-02   1.62586e-02** at limit **\n",
      "   9  n            5.00000e-01   2.06043e-02   4.38107e-03** at limit **\n",
      "  10  sigma        1.42225e+00   1.04351e-01   5.54510e-04   1.16188e-01\n",
      "  11  sigma1       3.50543e-02   3.42131e-03   5.68295e-04   3.25928e-02\n",
      "  12  sigma2       2.24772e-01   6.34896e-02   4.24261e-03  -2.73371e-02\n",
      "                               ERR DEF= 0.5\n",
      "[#0] WARNING:Minization -- RooMinimizerFcn: Minimized function has error status.\n",
      "Returning maximum FCN so far (55618.8) to force MIGRAD to back out of this region. Error log follows\n",
      "Parameter values: a=1.55384, b=-1.19214, c=0.153775, ev1=230.987, ev2=23.6577, ev3=249.81, media=3.09431, media2=3.6, n=0.50001, sigma=1.56001, sigma1=0.0339187, sigma2=0.20714\n",
      "RooPolynomial::polibk[ x=mass coefList=(a,b,c) ]\n",
      "     p.d.f value is less than zero (-1.061716), forcing value to zero @ x=mass=3.10232, coefList=(a = 1.55384,b = -1.19214,c = 0.153775)\n",
      "     p.d.f normalization integral is zero or negative: -4.58561 @ x=mass=3.10232, coefList=(a = 1.55384,b = -1.19214,c = 0.153775)\n",
      "     p.d.f normalization integral is zero or negative: -4.58561 @ x=mass=2.3012, coefList=(a = 1.55384,b = -1.19214,c = 0.153775)\n",
      "     p.d.f value is less than zero (-2.091588), forcing value to zero @ x=mass=4.14801, coefList=(a = 1.55384,b = -1.19214,c = 0.153775)\n",
      "     p.d.f normalization integral is zero or negative: -4.58561 @ x=mass=4.14801, coefList=(a = 1.55384,b = -1.19214,c = 0.153775)\n",
      "     p.d.f value is less than zero (-1.102904), forcing value to zero @ x=mass=3.13183, coefList=(a = 1.55384,b = -1.19214,c = 0.153775)\n",
      "     p.d.f normalization integral is zero or negative: -4.58561 @ x=mass=3.13183, coefList=(a = 1.55384,b = -1.19214,c = 0.153775)\n",
      "     p.d.f value is less than zero (-1.980303), forcing value to zero @ x=mass=4.82852, coefList=(a = 1.55384,b = -1.19214,c = 0.153775)\n",
      "     p.d.f normalization integral is zero or negative: -4.58561 @ x=mass=4.82852, coefList=(a = 1.55384,b = -1.19214,c = 0.153775)\n",
      "     p.d.f value is less than zero (-1.227505), forcing value to zero @ x=mass=3.22318, coefList=(a = 1.55384,b = -1.19214,c = 0.153775)\n",
      "     p.d.f normalization integral is zero or negative: -4.58561 @ x=mass=3.22318, coefList=(a = 1.55384,b = -1.19214,c = 0.153775)\n",
      "     p.d.f value is less than zero (-0.212979), forcing value to zero @ x=mass=2.53242, coefList=(a = 1.55384,b = -1.19214,c = 0.153775)\n",
      "    ... (remaining 906 messages suppressed)\n",
      "\n",
      "[#0] WARNING:Minization -- RooMinimizerFcn: Minimized function has error status.\n",
      "Returning maximum FCN so far (55618.8) to force MIGRAD to back out of this region. Error log follows\n",
      "Parameter values: a=1.49501, b=-0.768165, c=0.0838312, ev1=240.46, ev2=26.8483, ev3=234.795, media=3.09433, media2=3.6, n=0.500004, sigma=1.51423, sigma1=0.0342952, sigma2=0.212959\n",
      "RooPolynomial::polibk[ x=mass coefList=(a,b,c) ]\n",
      "     p.d.f value is less than zero (-0.032619), forcing value to zero @ x=mass=4.14801, coefList=(a = 1.49501,b = -0.768165,c = 0.0838312)\n",
      "     p.d.f value is less than zero (-0.253460), forcing value to zero @ x=mass=4.82852, coefList=(a = 1.49501,b = -0.768165,c = 0.0838312)\n",
      "     p.d.f value is less than zero (-0.255363), forcing value to zero @ x=mass=4.88184, coefList=(a = 1.49501,b = -0.768165,c = 0.0838312)\n",
      "     p.d.f value is less than zero (-0.250646), forcing value to zero @ x=mass=4.79154, coefList=(a = 1.49501,b = -0.768165,c = 0.0838312)\n",
      "     p.d.f value is less than zero (-0.036689), forcing value to zero @ x=mass=5.54455, coefList=(a = 1.49501,b = -0.768165,c = 0.0838312)\n",
      "     p.d.f value is less than zero (-0.060545), forcing value to zero @ x=mass=5.5098, coefList=(a = 1.49501,b = -0.768165,c = 0.0838312)\n",
      "     p.d.f value is less than zero (-0.255144), forcing value to zero @ x=mass=4.86912, coefList=(a = 1.49501,b = -0.768165,c = 0.0838312)\n",
      "     p.d.f value is less than zero (-0.020138), forcing value to zero @ x=mass=4.12558, coefList=(a = 1.49501,b = -0.768165,c = 0.0838312)\n",
      "     p.d.f value is less than zero (-0.163206), forcing value to zero @ x=mass=5.32424, coefList=(a = 1.49501,b = -0.768165,c = 0.0838312)\n",
      "     p.d.f value is less than zero (-0.051614), forcing value to zero @ x=mass=4.18313, coefList=(a = 1.49501,b = -0.768165,c = 0.0838312)\n",
      "     p.d.f value is less than zero (-0.085661), forcing value to zero @ x=mass=5.47061, coefList=(a = 1.49501,b = -0.768165,c = 0.0838312)\n",
      "     p.d.f value is less than zero (-0.061297), forcing value to zero @ x=mass=4.20155, coefList=(a = 1.49501,b = -0.768165,c = 0.0838312)\n",
      "    ... (remaining 67 messages suppressed)\n",
      "\n",
      " MINUIT WARNING IN MIGRAD  \n",
      " ============== Negative diagonal element 1 in Error Matrix\n",
      " MINUIT WARNING IN MIGRAD  \n",
      " ============== Negative diagonal element 2 in Error Matrix\n",
      " MINUIT WARNING IN MIGRAD  \n",
      " ============== Negative diagonal element 3 in Error Matrix\n",
      " MINUIT WARNING IN MIGRAD  \n",
      " ============== 1.11195 added to diagonal of error matrix\n",
      "[#0] WARNING:Minization -- RooMinimizerFcn: Minimized function has error status.\n",
      "Returning maximum FCN so far (55618.8) to force MIGRAD to back out of this region. Error log follows\n",
      "Parameter values: a=-0.783352, b=-0.608117, c=-1.99745, ev1=9827.6, ev2=4941.29, ev3=44409.2, media=3.19808, media2=3.6, n=0.51404, sigma=3.68517, sigma1=0.734372, sigma2=0.0101604\n",
      "RooPolynomial::polibk[ x=mass coefList=(a,b,c) ]\n",
      "     p.d.f value is less than zero (-66.923027), forcing value to zero @ x=mass=3.10232, coefList=(a = -0.783352,b = -0.608117,c = -1.99745)\n",
      "     p.d.f normalization integral is zero or negative: -689.881 @ x=mass=3.10232, coefList=(a = -0.783352,b = -0.608117,c = -1.99745)\n",
      "     p.d.f value is less than zero (-28.364112), forcing value to zero @ x=mass=2.3012, coefList=(a = -0.783352,b = -0.608117,c = -1.99745)\n",
      "     p.d.f normalization integral is zero or negative: -689.881 @ x=mass=2.3012, coefList=(a = -0.783352,b = -0.608117,c = -1.99745)\n",
      "     p.d.f value is less than zero (-155.271328), forcing value to zero @ x=mass=4.14801, coefList=(a = -0.783352,b = -0.608117,c = -1.99745)\n",
      "     p.d.f normalization integral is zero or negative: -689.881 @ x=mass=4.14801, coefList=(a = -0.783352,b = -0.608117,c = -1.99745)\n",
      "     p.d.f value is less than zero (-68.776098), forcing value to zero @ x=mass=3.13183, coefList=(a = -0.783352,b = -0.608117,c = -1.99745)\n",
      "     p.d.f normalization integral is zero or negative: -689.881 @ x=mass=3.13183, coefList=(a = -0.783352,b = -0.608117,c = -1.99745)\n",
      "     p.d.f value is less than zero (-241.823640), forcing value to zero @ x=mass=4.82852, coefList=(a = -0.783352,b = -0.608117,c = -1.99745)\n",
      "     p.d.f normalization integral is zero or negative: -689.881 @ x=mass=4.82852, coefList=(a = -0.783352,b = -0.608117,c = -1.99745)\n",
      "     p.d.f value is less than zero (-74.727386), forcing value to zero @ x=mass=3.22318, coefList=(a = -0.783352,b = -0.608117,c = -1.99745)\n",
      "     p.d.f normalization integral is zero or negative: -689.881 @ x=mass=3.22318, coefList=(a = -0.783352,b = -0.608117,c = -1.99745)\n",
      "    ... (remaining 990 messages suppressed)\n",
      "\n",
      "[#0] WARNING:Minization -- RooMinimizerFcn: Minimized function has error status.\n",
      "Returning maximum FCN so far (55618.8) to force MIGRAD to back out of this region. Error log follows\n",
      "Parameter values: a=-1.79903, b=-1.76806, c=1.11595, ev1=4796.77, ev2=3001.15, ev3=12820.3, media=2.81484, media2=3.6, n=0.505419, sigma=4.85291, sigma1=0.153276, sigma2=0.0780026\n",
      "RooPolynomial::polibk[ x=mass coefList=(a,b,c) ]\n",
      "     p.d.f value is less than zero (-0.277776), forcing value to zero @ x=mass=2.09319, coefList=(a = -1.79903,b = -1.76806,c = 1.11595)\n",
      "     p.d.f value is less than zero (-0.425235), forcing value to zero @ x=mass=2.06549, coefList=(a = -1.79903,b = -1.76806,c = 1.11595)\n",
      "     p.d.f value is less than zero (-0.481253), forcing value to zero @ x=mass=2.05455, coefList=(a = -1.79903,b = -1.76806,c = 1.11595)\n",
      "     p.d.f value is less than zero (-0.493140), forcing value to zero @ x=mass=2.0522, coefList=(a = -1.79903,b = -1.76806,c = 1.11595)\n",
      "     p.d.f value is less than zero (-0.333230), forcing value to zero @ x=mass=2.08294, coefList=(a = -1.79903,b = -1.76806,c = 1.11595)\n",
      "     p.d.f value is less than zero (-0.235652), forcing value to zero @ x=mass=2.10083, coefList=(a = -1.79903,b = -1.76806,c = 1.11595)\n",
      "     p.d.f value is less than zero (-0.735983), forcing value to zero @ x=mass=2.00148, coefList=(a = -1.79903,b = -1.76806,c = 1.11595)\n",
      "     p.d.f value is less than zero (-0.424455), forcing value to zero @ x=mass=2.06564, coefList=(a = -1.79903,b = -1.76806,c = 1.11595)\n",
      "     p.d.f value is less than zero (-0.024132), forcing value to zero @ x=mass=2.13766, coefList=(a = -1.79903,b = -1.76806,c = 1.11595)\n",
      "     p.d.f value is less than zero (-0.586356), forcing value to zero @ x=mass=2.03336, coefList=(a = -1.79903,b = -1.76806,c = 1.11595)\n",
      "     p.d.f value is less than zero (-0.233101), forcing value to zero @ x=mass=2.10129, coefList=(a = -1.79903,b = -1.76806,c = 1.11595)\n",
      "     p.d.f value is less than zero (-0.375115), forcing value to zero @ x=mass=2.07507, coefList=(a = -1.79903,b = -1.76806,c = 1.11595)\n",
      "    ... (remaining 13 messages suppressed)\n",
      "\n",
      "[#0] WARNING:Minization -- RooMinimizerFcn: Minimized function has error status.\n",
      "Returning maximum FCN so far (55618.8) to force MIGRAD to back out of this region. Error log follows\n",
      "Parameter values: a=-1.98508, b=1.99906, c=-1.84066, ev1=1728.61, ev2=3904.15, ev3=48295.3, media=2.87836, media2=3.6, n=0.502622, sigma=3.71007, sigma1=0.00804442, sigma2=0.133484\n",
      "RooPolynomial::polibk[ x=mass coefList=(a,b,c) ]\n",
      "     p.d.f value is less than zero (-40.877115), forcing value to zero @ x=mass=3.10232, coefList=(a = -1.98508,b = 1.99906,c = -1.84066)\n",
      "     p.d.f normalization integral is zero or negative: -478.171 @ x=mass=3.10232, coefList=(a = -1.98508,b = 1.99906,c = -1.84066)\n",
      "     p.d.f value is less than zero (-15.412448), forcing value to zero @ x=mass=2.3012, coefList=(a = -1.98508,b = 1.99906,c = -1.84066)\n",
      "     p.d.f normalization integral is zero or negative: -478.171 @ x=mass=2.3012, coefList=(a = -1.98508,b = 1.99906,c = -1.84066)\n",
      "     p.d.f value is less than zero (-104.206894), forcing value to zero @ x=mass=4.14801, coefList=(a = -1.98508,b = 1.99906,c = -1.84066)\n",
      "     p.d.f normalization integral is zero or negative: -478.171 @ x=mass=4.14801, coefList=(a = -1.98508,b = 1.99906,c = -1.84066)\n",
      "     p.d.f value is less than zero (-42.151165), forcing value to zero @ x=mass=3.13183, coefList=(a = -1.98508,b = 1.99906,c = -1.84066)\n",
      "     p.d.f normalization integral is zero or negative: -478.171 @ x=mass=3.13183, coefList=(a = -1.98508,b = 1.99906,c = -1.84066)\n",
      "     p.d.f value is less than zero (-169.190078), forcing value to zero @ x=mass=4.82852, coefList=(a = -1.98508,b = 1.99906,c = -1.84066)\n",
      "     p.d.f normalization integral is zero or negative: -478.171 @ x=mass=4.82852, coefList=(a = -1.98508,b = 1.99906,c = -1.84066)\n",
      "     p.d.f value is less than zero (-46.264988), forcing value to zero @ x=mass=3.22318, coefList=(a = -1.98508,b = 1.99906,c = -1.84066)\n",
      "     p.d.f normalization integral is zero or negative: -478.171 @ x=mass=3.22318, coefList=(a = -1.98508,b = 1.99906,c = -1.84066)\n",
      "    ... (remaining 990 messages suppressed)\n",
      "\n",
      "[#0] WARNING:Minization -- RooMinimizerFcn: Minimized function has error status.\n",
      "Returning maximum FCN so far (55618.8) to force MIGRAD to back out of this region. Error log follows\n",
      "Parameter values: a=-1.99983, b=-1.03793, c=-1.83728, ev1=671.403, ev2=1161.19, ev3=26069.3, media=2.99859, media2=3.6, n=0.501608, sigma=2.79183, sigma1=0.00442769, sigma2=0.165604\n",
      "RooPolynomial::polibk[ x=mass coefList=(a,b,c) ]\n",
      "     p.d.f value is less than zero (-70.051413), forcing value to zero @ x=mass=3.10232, coefList=(a = -1.99983,b = -1.03793,c = -1.83728)\n",
      "     p.d.f normalization integral is zero or negative: -687.892 @ x=mass=3.10232, coefList=(a = -1.99983,b = -1.03793,c = -1.83728)\n",
      "     p.d.f value is less than zero (-31.487776), forcing value to zero @ x=mass=2.3012, coefList=(a = -1.99983,b = -1.03793,c = -1.83728)\n",
      "     p.d.f normalization integral is zero or negative: -687.892 @ x=mass=2.3012, coefList=(a = -1.99983,b = -1.03793,c = -1.83728)\n",
      "     p.d.f value is less than zero (-156.281571), forcing value to zero @ x=mass=4.14801, coefList=(a = -1.99983,b = -1.03793,c = -1.83728)\n",
      "     p.d.f normalization integral is zero or negative: -687.892 @ x=mass=4.14801, coefList=(a = -1.99983,b = -1.03793,c = -1.83728)\n",
      "     p.d.f value is less than zero (-71.881685), forcing value to zero @ x=mass=3.13183, coefList=(a = -1.99983,b = -1.03793,c = -1.83728)\n",
      "     p.d.f normalization integral is zero or negative: -687.892 @ x=mass=3.13183, coefList=(a = -1.99983,b = -1.03793,c = -1.83728)\n",
      "     p.d.f value is less than zero (-239.687725), forcing value to zero @ x=mass=4.82852, coefList=(a = -1.99983,b = -1.03793,c = -1.83728)\n",
      "     p.d.f normalization integral is zero or negative: -687.892 @ x=mass=4.82852, coefList=(a = -1.99983,b = -1.03793,c = -1.83728)\n",
      "     p.d.f value is less than zero (-77.750424), forcing value to zero @ x=mass=3.22318, coefList=(a = -1.99983,b = -1.03793,c = -1.83728)\n",
      "     p.d.f normalization integral is zero or negative: -687.892 @ x=mass=3.22318, coefList=(a = -1.99983,b = -1.03793,c = -1.83728)\n",
      "    ... (remaining 990 messages suppressed)\n",
      "\n",
      "[#0] WARNING:Minization -- RooMinimizerFcn: Minimized function has error status.\n",
      "Returning maximum FCN so far (55618.8) to force MIGRAD to back out of this region. Error log follows\n",
      "Parameter values: a=1.22472, b=-1.34338, c=-0.206432, ev1=241.633, ev2=88.4868, ev3=2024.79, media=3.07869, media2=3.6, n=0.501091, sigma=2.11799, sigma1=0.0269139, sigma2=0.18747\n",
      "RooPolynomial::polibk[ x=mass coefList=(a,b,c) ]\n",
      "     p.d.f value is less than zero (-14.293483), forcing value to zero @ x=mass=3.10232, coefList=(a = 1.22472,b = -1.34338,c = -0.206432)\n",
      "     p.d.f normalization integral is zero or negative: -135.604 @ x=mass=3.10232, coefList=(a = 1.22472,b = -1.34338,c = -0.206432)\n",
      "     p.d.f value is less than zero (-5.811218), forcing value to zero @ x=mass=2.3012, coefList=(a = 1.22472,b = -1.34338,c = -0.206432)\n",
      "     p.d.f normalization integral is zero or negative: -135.604 @ x=mass=2.3012, coefList=(a = 1.22472,b = -1.34338,c = -0.206432)\n",
      "     p.d.f value is less than zero (-31.767186), forcing value to zero @ x=mass=4.14801, coefList=(a = 1.22472,b = -1.34338,c = -0.206432)\n",
      "     p.d.f normalization integral is zero or negative: -135.604 @ x=mass=4.14801, coefList=(a = 1.22472,b = -1.34338,c = -0.206432)\n",
      "     p.d.f value is less than zero (-14.682034), forcing value to zero @ x=mass=3.13183, coefList=(a = 1.22472,b = -1.34338,c = -0.206432)\n",
      "     p.d.f normalization integral is zero or negative: -135.604 @ x=mass=3.13183, coefList=(a = 1.22472,b = -1.34338,c = -0.206432)\n",
      "     p.d.f value is less than zero (-47.646016), forcing value to zero @ x=mass=4.82852, coefList=(a = 1.22472,b = -1.34338,c = -0.206432)\n",
      "     p.d.f normalization integral is zero or negative: -135.604 @ x=mass=4.82852, coefList=(a = 1.22472,b = -1.34338,c = -0.206432)\n",
      "     p.d.f value is less than zero (-15.921146), forcing value to zero @ x=mass=3.22318, coefList=(a = 1.22472,b = -1.34338,c = -0.206432)\n",
      "     p.d.f normalization integral is zero or negative: -135.604 @ x=mass=3.22318, coefList=(a = 1.22472,b = -1.34338,c = -0.206432)\n",
      "    ... (remaining 990 messages suppressed)\n",
      "\n",
      " MIGRAD FAILS TO FIND IMPROVEMENT\n",
      " MIGRAD TERMINATED WITHOUT CONVERGENCE.\n",
      " FCN=-2191.46 FROM MIGRAD    STATUS=FAILED       1622 CALLS        1623 TOTAL\n",
      "                     EDM=0.34657    STRATEGY= 1  ERROR MATRIX UNCERTAINTY  38.2 per cent\n",
      "  EXT PARAMETER                APPROXIMATE        STEP         FIRST   \n",
      "  NO.   NAME      VALUE            ERROR          SIZE      DERIVATIVE \n",
      "   1  a           -3.61795e-01   1.27784e+00   0.00000e+00  -8.90711e+01\n",
      "   2  b            3.90483e-02   1.34690e+00   0.00000e+00  -4.13357e+02\n",
      "   3  c           -3.76078e-04   1.35678e+00   0.00000e+00  -1.69241e+03\n",
      "   4  ev1          1.78898e+02   1.27961e+03  -0.00000e+00   4.69344e+00\n",
      "   5  ev2          1.62978e+01   6.59743e+02  -0.00000e+00   1.63832e+01\n",
      "   6  ev3          3.01148e+02   6.55407e+03  -0.00000e+00   2.67434e+01\n",
      "   7  media        3.09403e+00   1.19790e-01  -0.00000e+00   9.09989e+00\n",
      "   8  media2       3.60000e+00   3.77872e-02   0.00000e+00  -7.73253e-03\n",
      "   9  n            5.00997e-01   6.15259e-01  -0.00000e+00   1.91390e-01\n",
      "  10  sigma        1.97174e+00   3.11932e+00   0.00000e+00  -3.43728e+00\n",
      "  11  sigma1       3.38974e-02   1.23761e-01   0.00000e+00  -4.35822e+00\n",
      "  12  sigma2       1.92123e-01   2.72067e-01  -0.00000e+00   1.01957e+00\n",
      "                               ERR DEF= 0.5\n",
      " EXTERNAL ERROR MATRIX.    NDIM=  25    NPAR= 12    ERR DEF=0.5\n",
      " ELEMENTS ABOVE DIAGONAL ARE NOT PRINTED.\n",
      "  1.935e+00 \n",
      "  9.343e-02  2.184e+00 \n",
      " -9.985e-03  4.109e-03  2.223e+00 \n",
      "  4.678e+00 -1.653e+00  1.513e-01  9.766e+05 \n",
      "  4.919e-02  9.362e-02 -1.838e-02  8.365e+00  4.493e+04 \n",
      " -3.276e+00  1.017e+00 -8.014e-02 -1.022e+02 -6.259e+01  8.319e+06 \n",
      "  1.601e-04 -5.788e-05  5.554e-06 -5.789e-03  7.647e-05  6.363e-03  1.734e-02 \n",
      " -1.312e-06  5.042e-07 -5.027e-08  1.357e-05  5.421e-06 -1.259e-05  6.876e-10  1.516e-07 \n",
      " -5.774e-04  2.348e-04 -2.417e-05  3.757e-03 -1.124e-03 -3.410e-04  3.694e-07 -2.204e-09  2.574e-03 \n",
      "  4.521e-02 -1.637e-02  1.531e-03  8.892e-01  1.911e-01 -1.196e+00 -8.852e-05  1.660e-07  1.814e-05  1.176e+01 \n",
      " -5.018e-04  1.882e-04 -1.838e-05  8.711e-03 -2.345e-03 -7.151e-03  4.617e-08 -1.422e-09 -7.874e-07  6.759e-05  1.816e-02 \n",
      "  1.809e-02 -7.384e-03  7.718e-04 -2.710e-01 -2.259e-01  4.643e-01 -1.637e-05  4.493e-08  3.609e-05 -4.141e-03  4.826e-05 \n",
      "  1.809e-02 -7.384e-03  7.718e-04 -2.710e-01 -2.259e-01  4.643e-01 -1.637e-05  4.493e-08  3.609e-05 -4.141e-03  4.826e-05  9.020e-02 \n",
      "ERR MATRIX APPROXIMATE\n",
      " PARAMETER  CORRELATION COEFFICIENTS  \n",
      "       NO.  GLOBAL      1      2      3      4      5      6      7      8      9     10     11     12\n",
      "        1  0.06502   1.000  0.045 -0.005  0.003  0.000 -0.001  0.001 -0.002 -0.008  0.009 -0.003  0.043\n",
      "        2  0.04948   0.045  1.000  0.002 -0.001  0.000  0.000 -0.000  0.001  0.003 -0.003  0.001 -0.017\n",
      "        3  0.00563  -0.005  0.002  1.000  0.000 -0.000 -0.000  0.000 -0.000 -0.000  0.000 -0.000  0.002\n",
      "        4  0.00381   0.003 -0.001  0.000  1.000  0.000 -0.000 -0.000  0.000  0.000  0.000  0.000 -0.001\n",
      "        5  0.00358   0.000  0.000 -0.000  0.000  1.000 -0.000  0.000  0.000 -0.000  0.000 -0.000 -0.004\n",
      "        6  0.00105  -0.001  0.000 -0.000 -0.000 -0.000  1.000  0.000 -0.000 -0.000 -0.000 -0.000  0.001\n",
      "        7  0.00107   0.001 -0.000  0.000 -0.000  0.000  0.000  1.000  0.000  0.000 -0.000  0.000 -0.000\n",
      "        8  0.00268  -0.002  0.001 -0.000  0.000  0.000 -0.000  0.000  1.000 -0.000  0.000 -0.000  0.000\n",
      "        9  0.00934  -0.008  0.003 -0.000  0.000 -0.000 -0.000  0.000 -0.000  1.000  0.000 -0.000  0.002\n",
      "       10  0.01114   0.009 -0.003  0.000  0.000  0.000 -0.000 -0.000  0.000  0.000  1.000  0.000 -0.004\n",
      "       11  0.00319  -0.003  0.001 -0.000  0.000 -0.000 -0.000  0.000 -0.000 -0.000  0.000  1.000  0.001\n",
      "       12  0.04764   0.043 -0.017  0.002 -0.001 -0.004  0.001 -0.000  0.000  0.002 -0.004  0.001  1.000\n",
      " ERR MATRIX APPROXIMATE\n",
      " **********\n",
      " **    7 **SET ERR         0.5\n",
      " **********\n",
      " **********\n",
      " **    8 **SET PRINT           1\n",
      " **********\n",
      " **********\n",
      " **    9 **HESSE        6000\n",
      " **********\n",
      " MINUIT WARNING IN HESSE   \n",
      " ============== Negative diagonal element 9 in Error Matrix\n",
      " MINUIT WARNING IN HESSE   \n",
      " ============== 7.09916 added to diagonal of error matrix\n",
      " COVARIANCE MATRIX CALCULATED SUCCESSFULLY\n",
      " FCN=-2191.46 FROM HESSE     STATUS=OK            115 CALLS        1738 TOTAL\n",
      "                     EDM=0.374607    STRATEGY= 1      ERROR MATRIX ACCURATE \n",
      "  EXT PARAMETER                                INTERNAL      INTERNAL  \n",
      "  NO.   NAME      VALUE            ERROR       STEP SIZE       VALUE   \n",
      "   1  a           -3.61795e-01   1.84583e-02   6.96981e-05  -1.81899e-01\n",
      "   2  b            3.90483e-02   4.70221e-03   1.17497e-05   1.95254e-02\n",
      "   3  c           -3.76078e-04   6.22082e-04   2.08353e-06  -1.88039e-04\n",
      "   4  ev1          1.78898e+02   2.30846e+01   3.72894e-04  -1.83903e+00\n",
      "   5  ev2          1.62978e+01   1.18475e+01   9.58867e-04  -1.68469e+00\n",
      "   6  ev3          3.01148e+02   3.15156e+01   1.59372e-04  -1.72614e+00\n",
      "   7  media        3.09403e+00   3.36934e-03   6.21604e-04   4.89447e-01\n",
      "   8  media2       3.60000e+00   5.57494e-03   2.37817e-02  -1.57513e+00\n",
      "   9  n            5.00997e-01   2.88689e+00   1.68082e-02  -1.60056e+00\n",
      "  10  sigma        1.97174e+00   2.20461e-01   9.47241e-04   4.05359e-01\n",
      "  11  sigma1       3.38974e-02   3.23785e-03   6.00185e-04  -1.94060e+00\n",
      "  12  sigma2       1.92123e-01   9.04500e-02   7.61770e-03  -6.63548e-01\n",
      "                               ERR DEF= 0.5\n",
      " EXTERNAL ERROR MATRIX.    NDIM=  25    NPAR= 12    ERR DEF=0.5\n",
      " ELEMENTS ABOVE DIAGONAL ARE NOT PRINTED.\n",
      "  3.407e-04 \n",
      " -5.806e-05  2.211e-05 \n",
      "  2.290e-07 -2.132e-06  3.870e-07 \n",
      " -1.368e-02 -5.693e-03 -6.902e-04  5.330e+02 \n",
      "  4.909e-02 -2.870e-03 -1.746e-03  1.010e+02  1.404e+02 \n",
      " -3.675e-02  8.638e-03  2.484e-03 -4.582e+02 -2.290e+02  9.933e+02 \n",
      "  1.001e-07  5.700e-08  6.981e-09 -4.016e-03 -2.624e-04  4.283e-03  1.135e-05 \n",
      "  9.104e-10 -1.045e-10 -3.710e-11  3.486e-06  3.341e-06 -6.914e-06 -3.320e-11  2.110e-08 \n",
      "  3.138e-05  1.893e-06 -2.596e-07 -1.599e-01 -4.263e-02  2.037e-01  3.478e-07 -1.441e-09  5.355e-03 \n",
      " -2.030e-04 -5.499e-05 -5.309e-06  3.494e+00  1.027e+00 -4.548e+00 -4.838e-05  3.396e-08  2.740e-03  4.864e-02 \n",
      "  1.419e-06 -2.107e-07 -6.101e-08  1.128e-02  1.910e-03 -1.322e-02 -1.236e-07  1.099e-10 -4.495e-06  7.171e-05  1.048e-05 \n",
      " -1.512e-04  6.767e-06  5.270e-06 -2.018e-01 -4.180e-01  6.323e-01 -9.768e-06  2.354e-08  1.216e-04 -2.668e-03  1.638e-05 \n",
      " -1.512e-04  6.767e-06  5.270e-06 -2.018e-01 -4.180e-01  6.323e-01 -9.768e-06  2.354e-08  1.216e-04 -2.668e-03  1.638e-05  8.329e-03 \n",
      " PARAMETER  CORRELATION COEFFICIENTS  \n",
      "       NO.  GLOBAL      1      2      3      4      5      6      7      8      9     10     11     12\n",
      "        1  0.97325   1.000 -0.669  0.020 -0.032  0.224 -0.063  0.002  0.000  0.023 -0.050  0.024 -0.090\n",
      "        2  0.98798  -0.669  1.000 -0.729 -0.052 -0.052  0.058  0.004 -0.000  0.006 -0.053 -0.014  0.016\n",
      "        3  0.97830   0.020 -0.729  1.000 -0.048 -0.237  0.127  0.003 -0.000 -0.006 -0.039 -0.030  0.093\n",
      "        4  0.75285  -0.032 -0.052 -0.048  1.000  0.369 -0.630 -0.052  0.001 -0.095  0.686  0.151 -0.096\n",
      "        5  0.70537   0.224 -0.052 -0.237  0.369  1.000 -0.613 -0.007  0.002 -0.049  0.393  0.050 -0.387\n",
      "        6  0.79572  -0.063  0.058  0.127 -0.630 -0.613  1.000  0.040 -0.002  0.088 -0.654 -0.130  0.220\n",
      "        7  0.07977   0.002  0.004  0.003 -0.052 -0.007  0.040  1.000 -0.000  0.001 -0.065 -0.011 -0.032\n",
      "        8  0.00339   0.000 -0.000 -0.000  0.001  0.002 -0.002 -0.000  1.000 -0.000  0.001  0.000  0.002\n",
      "        9  0.40315   0.023  0.006 -0.006 -0.095 -0.049  0.088  0.001 -0.000  1.000  0.170 -0.019  0.018\n",
      "       10  0.80306  -0.050 -0.053 -0.039  0.686  0.393 -0.654 -0.065  0.001  0.170  1.000  0.100 -0.133\n",
      "       11  0.18440   0.024 -0.014 -0.030  0.151  0.050 -0.130 -0.011  0.000 -0.019  0.100  1.000  0.055\n",
      "       12  0.39754  -0.090  0.016  0.093 -0.096 -0.387  0.220 -0.032  0.002  0.018 -0.133  0.055  1.000\n",
      " ELEMENTS ABOVE DIAGONAL ARE NOT PRINTED.\n",
      "[#1] INFO:Minization -- RooMinimizer::optimizeConst: deactivating const optimization\n"
     ]
    }
   ],
   "source": [
    "somaPDF.fitTo(dataset)"
   ]
  },
  {
   "cell_type": "code",
   "execution_count": null,
   "metadata": {},
   "outputs": [],
   "source": [
    "# Vamos fazer o plot da somaPDF e dataset, lembrando que precisamos \n",
    "# criar um TCanvas chamado c1. Vamos salvar em formato pdf"
   ]
  },
  {
   "cell_type": "code",
   "execution_count": 13,
   "metadata": {},
   "outputs": [
    {
     "name": "stderr",
     "output_type": "stream",
     "text": [
      "Info in <TCanvas::Print>: pdf file Jpsi_Roofit.pdf has been created\n"
     ]
    },
    {
     "data": {
      "image/png": "[encoded data removed]",
      "text/plain": [
       "<IPython.core.display.Image object>"
      ]
     },
     "metadata": {},
     "output_type": "display_data"
    }
   ],
   "source": [
    "xframe2 = mass.frame()\n",
    "dataset.plotOn(xframe2)\n",
    "somaPDF.plotOn(xframe2)\n",
    "c1 = ROOT.TCanvas()\n",
    "xframe2.Draw()\n",
    "c1.SaveAs(\"Jpsi_Roofit.pdf\")\n",
    "c1.Draw()"
   ]
  },
  {
   "cell_type": "code",
   "execution_count": null,
   "metadata": {},
   "outputs": [],
   "source": [
    "# Feito o plot, agora vamos importar o dataset e a soma com o comando:\n",
    "# RooWorkspace()."
   ]
  },
  {
   "cell_type": "code",
   "execution_count": 16,
   "metadata": {},
   "outputs": [
    {
     "name": "stdout",
     "output_type": "stream",
     "text": [
      "[#1] INFO:ObjectHandling -- RooWorkspace::import(ws) importing dataset data\n",
      "[#1] INFO:ObjectHandling -- RooWorkspace::import(ws) importing RooRealVar::mass\n",
      "[#1] INFO:ObjectHandling -- RooWorkspace::import(ws) importing RooAddPdf::somaPDF\n",
      "[#1] INFO:ObjectHandling -- RooWorkspace::import(ws) importing RooCBShape::CBshapeJpsi\n",
      "[#1] INFO:ObjectHandling -- RooWorkspace::import(ws) importing RooRealVar::media\n",
      "[#1] INFO:ObjectHandling -- RooWorkspace::import(ws) importing RooRealVar::sigma1\n",
      "[#1] INFO:ObjectHandling -- RooWorkspace::import(ws) importing RooRealVar::sigma\n",
      "[#1] INFO:ObjectHandling -- RooWorkspace::import(ws) importing RooRealVar::n\n",
      "[#1] INFO:ObjectHandling -- RooWorkspace::import(ws) importing RooRealVar::ev1\n",
      "[#1] INFO:ObjectHandling -- RooWorkspace::import(ws) importing RooGaussian::gauss\n",
      "[#1] INFO:ObjectHandling -- RooWorkspace::import(ws) importing RooRealVar::media2\n",
      "[#1] INFO:ObjectHandling -- RooWorkspace::import(ws) importing RooRealVar::sigma2\n",
      "[#1] INFO:ObjectHandling -- RooWorkspace::import(ws) importing RooRealVar::ev2\n",
      "[#1] INFO:ObjectHandling -- RooWorkspace::import(ws) importing RooPolynomial::polibk\n",
      "[#1] INFO:ObjectHandling -- RooWorkspace::import(ws) importing RooRealVar::a\n",
      "[#1] INFO:ObjectHandling -- RooWorkspace::import(ws) importing RooRealVar::b\n",
      "[#1] INFO:ObjectHandling -- RooWorkspace::import(ws) importing RooRealVar::c\n",
      "[#1] INFO:ObjectHandling -- RooWorkspace::import(ws) importing RooRealVar::ev3\n"
     ]
    }
   ],
   "source": [
    "ws = ROOT.RooWorkspace(\"ws\")\n",
    "getattr(ws,'import')(dataset)\n",
    "getattr(ws,'import')(somaPDF)\n",
    "\n",
    "arq = ROOT.TFile(\"exercicio2_Roofit.root\",\"RECREATE\")\n",
    "ws.Write()\n",
    "arq.Write()\n",
    "arq.Close()"
   ]
  },
  {
   "cell_type": "code",
   "execution_count": null,
   "metadata": {},
   "outputs": [],
   "source": []
  }
 ],
 "metadata": {
  "kernelspec": {
   "display_name": "Python 3",
   "language": "python",
   "name": "python3"
  },
  "language_info": {
   "codemirror_mode": {
    "name": "ipython",
    "version": 3
   },
   "file_extension": ".py",
   "mimetype": "text/x-python",
   "name": "python",
   "nbconvert_exporter": "python",
   "pygments_lexer": "ipython3",
   "version": "3.8.5"
  }
 },
 "nbformat": 4,
 "nbformat_minor": 4
}
